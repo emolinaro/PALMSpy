{
 "cells": [
  {
   "cell_type": "code",
   "execution_count": 2,
   "metadata": {
    "ExecuteTime": {
     "end_time": "2019-12-11T20:45:32.232473Z",
     "start_time": "2019-12-11T20:45:31.990901Z"
    }
   },
   "outputs": [],
   "source": [
    "from pyspark.conf import SparkConf\n",
    "from src.GPSProcessing import *\n",
    "from src.AccProcessing import *"
   ]
  },
  {
   "cell_type": "code",
   "execution_count": null,
   "metadata": {
    "ExecuteTime": {
     "end_time": "2019-12-11T20:45:36.354071Z",
     "start_time": "2019-12-11T20:45:32.859714Z"
    },
    "pycharm": {
     "is_executing": true
    }
   },
   "outputs": [],
   "source": [
    "# REFERENCE: https://spark.apache.org/docs/latest/configuration.html\n",
    "\n",
    "conf = SparkConf().setAll([('spark.memory.fraction', '0.6'),\n",
    "                           ('spark.executor.memory', '16g'),\n",
    "                           ('spark.driver.memory', '16g'),\n",
    "                           ('spark.sql.shuffle.partitions', '20'),\n",
    "                           ('spark.memory.offHeap.enabled', True),\n",
    "                           ('spark.memory.offHeap.size', '16g'),\n",
    "                           ('spark.cleaner.referenceTracking.cleanCheckpoints', True),\n",
    "                           ('spark.driver.host', '127.0.0.1'),\n",
    "                           ('spark.scheduler.listenerbus.eventqueue.capacity', '50000')]  # ,\n",
    "                          )\n",
    "\n",
    "spark = SparkSession.builder.config(conf=conf).master(\"local[*]\").appName(\"test\").getOrCreate()\n",
    "sc = spark.sparkContext\n",
    "sc.setLogLevel(\"ERROR\")\n",
    "sc.setCheckpointDir('checkpoints')\n",
    "sc.getConf().getAll()"
   ]
  },
  {
   "cell_type": "code",
   "execution_count": null,
   "metadata": {
    "ExecuteTime": {
     "end_time": "2019-12-11T20:45:36.391219Z",
     "start_time": "2019-12-11T20:45:36.384512Z"
    },
    "pycharm": {
     "is_executing": true
    }
   },
   "outputs": [],
   "source": [
    "sc.defaultParallelism"
   ]
  },
  {
   "cell_type": "code",
   "execution_count": null,
   "metadata": {
    "ExecuteTime": {
     "end_time": "2019-12-11T20:45:36.435332Z",
     "start_time": "2019-12-11T20:45:36.429615Z"
    },
    "pycharm": {
     "is_executing": true
    }
   },
   "outputs": [],
   "source": [
    "sc.defaultMinPartitions"
   ]
  },
  {
   "cell_type": "code",
   "execution_count": null,
   "metadata": {
    "ExecuteTime": {
     "end_time": "2019-12-11T20:45:37.049293Z",
     "start_time": "2019-12-11T20:45:37.042038Z"
    },
    "pycharm": {
     "is_executing": true
    }
   },
   "outputs": [],
   "source": [
    "sc"
   ]
  },
  {
   "cell_type": "markdown",
   "metadata": {
    "heading_collapsed": true
   },
   "source": [
    "## GPS data processing"
   ]
  },
  {
   "cell_type": "code",
   "execution_count": 7,
   "metadata": {
    "ExecuteTime": {
     "end_time": "2019-12-11T16:01:28.866865Z",
     "start_time": "2019-12-11T16:01:28.863676Z"
    },
    "hidden": true
   },
   "outputs": [],
   "source": [
    "gps_path_raw = '../tests/raw-data/gps/1.csv'"
   ]
  },
  {
   "cell_type": "code",
   "execution_count": 8,
   "metadata": {
    "ExecuteTime": {
     "end_time": "2019-12-11T16:02:24.217769Z",
     "start_time": "2019-12-11T16:02:20.110246Z"
    },
    "hidden": true
   },
   "outputs": [],
   "source": [
    "gps_data_raw = spark.read.csv(gps_path_raw, header=True, inferSchema=True)"
   ]
  },
  {
   "cell_type": "code",
   "execution_count": null,
   "metadata": {
    "ExecuteTime": {
     "end_time": "2019-12-11T16:02:25.125836Z",
     "start_time": "2019-12-11T16:02:24.847041Z"
    },
    "hidden": true,
    "pycharm": {
     "is_executing": true
    }
   },
   "outputs": [],
   "source": [
    "gps_data_raw.show()"
   ]
  },
  {
   "cell_type": "code",
   "execution_count": 10,
   "metadata": {
    "ExecuteTime": {
     "end_time": "2019-12-11T16:03:26.209712Z",
     "start_time": "2019-12-11T16:02:41.958953Z"
    },
    "hidden": true
   },
   "outputs": [],
   "source": [
    "date_format = 'yyyy/MM/dd'\n",
    "time_format = 'HH:mm:ss'\n",
    "datetime_format = date_format + ' ' + time_format\n",
    "\n",
    "ts_name = 'timestamp'\n",
    "dist_name = 'distance'\n",
    "speed_name = 'speed'\n",
    "height_name = 'height'\n",
    "fix_type_name = 'fixTypeCode'\n",
    "\n",
    "gps_data = gen_gps_dataframe(gps_data_raw, ts_name, datetime_format)"
   ]
  },
  {
   "cell_type": "code",
   "execution_count": null,
   "metadata": {
    "ExecuteTime": {
     "end_time": "2019-12-11T16:03:28.072213Z",
     "start_time": "2019-12-11T16:03:28.067570Z"
    },
    "hidden": true,
    "pycharm": {
     "is_executing": true
    }
   },
   "outputs": [],
   "source": [
    "gps_data.printSchema()"
   ]
  },
  {
   "cell_type": "code",
   "execution_count": null,
   "metadata": {
    "ExecuteTime": {
     "end_time": "2019-12-11T16:03:32.170142Z",
     "start_time": "2019-12-11T16:03:30.378699Z"
    },
    "hidden": true,
    "pycharm": {
     "is_executing": true
    }
   },
   "outputs": [],
   "source": [
    "gps_data.count()"
   ]
  },
  {
   "cell_type": "code",
   "execution_count": null,
   "metadata": {
    "ExecuteTime": {
     "end_time": "2019-12-11T16:03:38.862493Z",
     "start_time": "2019-12-11T16:03:37.593026Z"
    },
    "hidden": true,
    "pycharm": {
     "is_executing": true
    }
   },
   "outputs": [],
   "source": [
    "gps_data.show()"
   ]
  },
  {
   "cell_type": "code",
   "execution_count": null,
   "metadata": {
    "ExecuteTime": {
     "end_time": "2019-12-11T16:03:44.501825Z",
     "start_time": "2019-12-11T16:03:43.291868Z"
    },
    "hidden": true,
    "pycharm": {
     "is_executing": true
    }
   },
   "outputs": [],
   "source": [
    "# Filter timestamps over given interval\n",
    "INTERVAL = 5\n",
    "\n",
    "print(\"====> filter GPS data every {} seconds...\".format(str(INTERVAL)))\n",
    "start_time = time.time()\n",
    "gps_data = select_gps_intervals(gps_data, ts_name, INTERVAL)\n",
    "elapsed_time = time.time() - start_time\n",
    "print(\"      time elapsed: {}\".format(time.strftime(\"%H:%M:%S\", time.gmtime(elapsed_time))))"
   ]
  },
  {
   "cell_type": "code",
   "execution_count": null,
   "metadata": {
    "ExecuteTime": {
     "end_time": "2019-12-11T16:03:50.952850Z",
     "start_time": "2019-12-11T16:03:47.195303Z"
    },
    "hidden": true,
    "pycharm": {
     "is_executing": true
    }
   },
   "outputs": [],
   "source": [
    "# Set fix type\n",
    "\n",
    "ws = 600\n",
    "\n",
    "print(\"====> set fix type...\")\n",
    "start_time = time.time()\n",
    "gps_data = set_fix_type(gps_data, ts_name, fix_type_name, ws).cache()\n",
    "gps_data.checkpoint()\n",
    "gps_data.count()\n",
    "elapsed_time = time.time() - start_time\n",
    "print(\"      time elapsed: {}\".format(time.strftime(\"%H:%M:%S\", time.gmtime(elapsed_time))))"
   ]
  },
  {
   "cell_type": "code",
   "execution_count": null,
   "metadata": {
    "ExecuteTime": {
     "end_time": "2019-12-11T16:03:51.642829Z",
     "start_time": "2019-12-11T16:03:51.526920Z"
    },
    "hidden": true,
    "pycharm": {
     "is_executing": true
    }
   },
   "outputs": [],
   "source": [
    "gps_data.show()"
   ]
  },
  {
   "cell_type": "code",
   "execution_count": null,
   "metadata": {
    "ExecuteTime": {
     "end_time": "2019-12-11T16:03:54.000576Z",
     "start_time": "2019-12-11T16:03:53.680581Z"
    },
    "hidden": true,
    "pycharm": {
     "is_executing": true
    }
   },
   "outputs": [],
   "source": [
    "# Apply filter on the velocity\n",
    "\n",
    "vmax = 130 # km/h\n",
    "\n",
    "print(\"====> apply velocity filter...\")\n",
    "start_time = time.time()\n",
    "gps_data = filter_speed(gps_data, speed_name, fix_type_name, vmax).cache()\n",
    "gps_data.checkpoint()\n",
    "gps_data.count()\n",
    "elapsed_time = time.time() - start_time\n",
    "print(\"      time elapsed: {}\".format(time.strftime(\"%H:%M:%S\", time.gmtime(elapsed_time))))"
   ]
  },
  {
   "cell_type": "code",
   "execution_count": null,
   "metadata": {
    "ExecuteTime": {
     "end_time": "2019-12-11T16:03:54.894305Z",
     "start_time": "2019-12-11T16:03:54.533999Z"
    },
    "hidden": true,
    "pycharm": {
     "is_executing": true
    }
   },
   "outputs": [],
   "source": [
    "# Apply filter over max acceleration\n",
    "                                             \n",
    "print(\"====> apply accelaration filter...\")\n",
    "start_time = time.time()\n",
    "gps_data = filter_acceleration(gps_data, speed_name, ts_name, fix_type_name).cache()\n",
    "gps_data.checkpoint()\n",
    "gps_data.count()\n",
    "elapsed_time = time.time() - start_time\n",
    "print(\"      time elapsed: {}\".format(time.strftime(\"%H:%M:%S\", time.gmtime(elapsed_time))))"
   ]
  },
  {
   "cell_type": "code",
   "execution_count": null,
   "metadata": {
    "ExecuteTime": {
     "end_time": "2019-12-11T16:03:57.325034Z",
     "start_time": "2019-12-11T16:03:56.328860Z"
    },
    "hidden": true,
    "pycharm": {
     "is_executing": true
    }
   },
   "outputs": [],
   "source": [
    "# Apply filter on the height variation\n",
    "\n",
    "dhmax=1000\n",
    "\n",
    "print(\"====> apply height variation filter...\")\n",
    "start_time = time.time()\n",
    "gps_data = filter_height(gps_data, height_name, ts_name, fix_type_name, dhmax).cache()\n",
    "gps_data.checkpoint()\n",
    "gps_data.count()\n",
    "elapsed_time = time.time() - start_time\n",
    "print(\"      time elapsed: {}\".format(time.strftime(\"%H:%M:%S\", time.gmtime(elapsed_time))))"
   ]
  },
  {
   "cell_type": "code",
   "execution_count": null,
   "metadata": {
    "ExecuteTime": {
     "end_time": "2019-12-11T16:03:58.072682Z",
     "start_time": "2019-12-11T16:03:57.935925Z"
    },
    "hidden": true,
    "pycharm": {
     "is_executing": true
    }
   },
   "outputs": [],
   "source": [
    "gps_data.count()"
   ]
  },
  {
   "cell_type": "code",
   "execution_count": null,
   "metadata": {
    "ExecuteTime": {
     "end_time": "2019-12-11T16:04:01.925166Z",
     "start_time": "2019-12-11T16:04:00.283426Z"
    },
    "hidden": true,
    "pycharm": {
     "is_executing": true
    }
   },
   "outputs": [],
   "source": [
    "# Apply filter over three fixes (it also recalculates distance column)\n",
    "\n",
    "dmin = 10\n",
    "dcol = 'distance'\n",
    "\n",
    "print(\"====> apply three fixes filter...\")\n",
    "start_time = time.time()\n",
    "gps_data = filter_change_dist_3_fixes(gps_data, dist_name, ts_name, fix_type_name, dmin).cache()\n",
    "gps_data.checkpoint()\n",
    "gps_data.count()\n",
    "elapsed_time = time.time() - start_time\n",
    "print(\"      time elapsed: {}\".format(time.strftime(\"%H:%M:%S\", time.gmtime(elapsed_time))))"
   ]
  },
  {
   "cell_type": "code",
   "execution_count": null,
   "metadata": {
    "ExecuteTime": {
     "end_time": "2019-12-11T16:04:02.184983Z",
     "start_time": "2019-12-11T16:04:02.063651Z"
    },
    "hidden": true,
    "pycharm": {
     "is_executing": true
    }
   },
   "outputs": [],
   "source": [
    "gps_data.count()"
   ]
  },
  {
   "cell_type": "code",
   "execution_count": null,
   "metadata": {
    "ExecuteTime": {
     "end_time": "2019-12-11T16:04:03.983218Z",
     "start_time": "2019-12-11T16:04:03.978918Z"
    },
    "hidden": true,
    "pycharm": {
     "is_executing": true
    }
   },
   "outputs": [],
   "source": [
    "gps_data.printSchema()"
   ]
  },
  {
   "cell_type": "code",
   "execution_count": null,
   "metadata": {
    "ExecuteTime": {
     "end_time": "2019-12-11T16:04:05.825032Z",
     "start_time": "2019-12-11T16:04:05.463036Z"
    },
    "hidden": true,
    "pycharm": {
     "is_executing": true
    }
   },
   "outputs": [],
   "source": [
    "# Round seconds in timestamps according to the interval\n",
    "interval = INTERVAL # seconds\n",
    "ts_name = 'timestamp'\n",
    "\n",
    "print(\"====> align timestamps...\")\n",
    "start_time = time.time()\n",
    "gps_data = round_timestamp(gps_data, ts_name, interval).cache()\n",
    "gps_data.checkpoint()\n",
    "gps_data.count()\n",
    "elapsed_time = time.time() - start_time\n",
    "print(\"      time elapsed: {}\".format(time.strftime(\"%H:%M:%S\", time.gmtime(elapsed_time))))"
   ]
  },
  {
   "cell_type": "code",
   "execution_count": null,
   "metadata": {
    "ExecuteTime": {
     "end_time": "2019-12-11T16:04:07.590182Z",
     "start_time": "2019-12-11T16:04:07.585508Z"
    },
    "hidden": true,
    "pycharm": {
     "is_executing": true
    }
   },
   "outputs": [],
   "source": [
    "gps_data.printSchema()"
   ]
  },
  {
   "cell_type": "code",
   "execution_count": null,
   "metadata": {
    "ExecuteTime": {
     "end_time": "2019-12-11T16:04:09.378528Z",
     "start_time": "2019-12-11T16:04:09.268626Z"
    },
    "hidden": true,
    "pycharm": {
     "is_executing": true
    }
   },
   "outputs": [],
   "source": [
    "gps_data.show()"
   ]
  },
  {
   "cell_type": "code",
   "execution_count": 27,
   "metadata": {
    "ExecuteTime": {
     "end_time": "2019-12-11T16:04:19.545352Z",
     "start_time": "2019-12-11T16:04:19.542838Z"
    },
    "hidden": true
   },
   "outputs": [],
   "source": [
    "gps_data = gps_data.limit(1000)"
   ]
  },
  {
   "cell_type": "code",
   "execution_count": 28,
   "metadata": {
    "ExecuteTime": {
     "end_time": "2019-12-11T16:04:20.177318Z",
     "start_time": "2019-12-11T16:04:20.174338Z"
    },
    "hidden": true
   },
   "outputs": [],
   "source": [
    "min_dist_per_min = 25 # meters\n",
    "min_pause_duration = 120 # second\n",
    "max_pause_time = 180 # seconds"
   ]
  },
  {
   "cell_type": "code",
   "execution_count": 29,
   "metadata": {
    "ExecuteTime": {
     "end_time": "2019-12-11T16:04:22.335371Z",
     "start_time": "2019-12-11T16:04:22.332692Z"
    },
    "hidden": true
   },
   "outputs": [],
   "source": [
    "# %lprun -f detect_trips detect_trips(gps_data, ts_name, dist_name, speed_name, fix_type_name, min_dist_per_min, min_pause_duration, max_pause_time, vmax)"
   ]
  },
  {
   "cell_type": "code",
   "execution_count": null,
   "metadata": {
    "ExecuteTime": {
     "end_time": "2019-12-11T16:23:16.881907Z",
     "start_time": "2019-12-11T16:04:23.488504Z"
    },
    "hidden": true,
    "pycharm": {
     "is_executing": true
    }
   },
   "outputs": [],
   "source": [
    "print(\"====> detect trips...\")\n",
    "start_time = time.time()\n",
    "gps_data2 = detect_trips(gps_data, ts_name, dist_name, speed_name, fix_type_name, min_dist_per_min, \n",
    "                 min_pause_duration, max_pause_time, vmax).cache()\n",
    "gps_data2.count()\n",
    "elapsed_time = time.time() - start_time\n",
    "print(\"      time elapsed: {}\".format(time.strftime(\"%H:%M:%S\", time.gmtime(elapsed_time))))"
   ]
  },
  {
   "cell_type": "code",
   "execution_count": null,
   "metadata": {
    "ExecuteTime": {
     "end_time": "2019-12-11T16:25:05.043880Z",
     "start_time": "2019-12-11T16:25:04.959015Z"
    },
    "hidden": true,
    "pycharm": {
     "is_executing": true
    }
   },
   "outputs": [],
   "source": [
    "gps_data2.printSchema()"
   ]
  },
  {
   "cell_type": "code",
   "execution_count": null,
   "metadata": {
    "ExecuteTime": {
     "end_time": "2019-12-11T16:25:08.969742Z",
     "start_time": "2019-12-11T16:25:06.394657Z"
    },
    "hidden": true,
    "pycharm": {
     "is_executing": true
    }
   },
   "outputs": [],
   "source": [
    "gps_data2.show(10000)"
   ]
  },
  {
   "cell_type": "code",
   "execution_count": null,
   "metadata": {
    "ExecuteTime": {
     "end_time": "2019-12-11T16:26:39.892886Z",
     "start_time": "2019-12-11T16:25:14.008721Z"
    },
    "hidden": true,
    "pycharm": {
     "is_executing": true
    }
   },
   "outputs": [],
   "source": [
    "vehicle_speed_cutoff = 35 # km/h\n",
    "bicycle_speed_cutoff = 10 # km/h \n",
    "walk_speed_cutoff = 1 # km/h\n",
    "speed_percentile = 90\n",
    "speed_segment_length = 30 # m\n",
    "min_trip_length = 100 # m\n",
    "min_trip_duration = 120 # sec\n",
    "\n",
    "ts_name = 'timestamp'\n",
    "dist_name = 'distance'\n",
    "speed_name = 'speed'\n",
    "\n",
    "print(\"====> classify trips...\")\n",
    "start_time = time.time()\n",
    "gps_data3 = classify_trips(gps_data2, ts_name, dist_name, speed_name, fix_type_name,\n",
    "                           vehicle_speed_cutoff, bicycle_speed_cutoff, walk_speed_cutoff, \n",
    "                           min_trip_length, min_trip_duration, speed_segment_length, speed_percentile).cache()\n",
    "gps_data3.count()\n",
    "elapsed_time = time.time() - start_time\n",
    "print(\"      time elapsed: {}\".format(time.strftime(\"%H:%M:%S\", time.gmtime(elapsed_time))))"
   ]
  },
  {
   "cell_type": "code",
   "execution_count": null,
   "metadata": {
    "ExecuteTime": {
     "end_time": "2019-12-11T16:27:32.270422Z",
     "start_time": "2019-12-11T16:27:32.246880Z"
    },
    "hidden": true,
    "pycharm": {
     "is_executing": true
    }
   },
   "outputs": [],
   "source": [
    "gps_data3.printSchema()"
   ]
  },
  {
   "cell_type": "code",
   "execution_count": null,
   "metadata": {
    "ExecuteTime": {
     "end_time": "2019-12-11T16:27:34.663844Z",
     "start_time": "2019-12-11T16:27:33.260800Z"
    },
    "hidden": true,
    "pycharm": {
     "is_executing": true
    }
   },
   "outputs": [],
   "source": [
    "gps_data3.show(10000)"
   ]
  },
  {
   "cell_type": "code",
   "execution_count": null,
   "metadata": {
    "ExecuteTime": {
     "end_time": "2019-12-11T16:27:46.219644Z",
     "start_time": "2019-12-11T16:27:38.773726Z"
    },
    "hidden": true,
    "pycharm": {
     "is_executing": true
    }
   },
   "outputs": [],
   "source": [
    "# Generate missing values up to maximum signal loss\n",
    "\n",
    "print(\"====> fill in missing value...\")\n",
    "start_time = time.time()\n",
    "gps_data3 = fill_timestamp(gps_data3, ts_name, fix_type_name, interval, ws).cache()\n",
    "gps_data3.checkpoint()\n",
    "gps_data3.count()\n",
    "elapsed_time = time.time() - start_time\n",
    "print(\"      time elapsed: {}\".format(time.strftime(\"%H:%M:%S\", time.gmtime(elapsed_time))))"
   ]
  },
  {
   "cell_type": "code",
   "execution_count": null,
   "metadata": {
    "ExecuteTime": {
     "end_time": "2019-12-11T16:27:49.348794Z",
     "start_time": "2019-12-11T16:27:47.902496Z"
    },
    "hidden": true,
    "pycharm": {
     "is_executing": true
    }
   },
   "outputs": [],
   "source": [
    "gps_data3.show(10000)"
   ]
  },
  {
   "cell_type": "code",
   "execution_count": null,
   "outputs": [],
   "source": [
    "# gps_data3.toPandas().to_csv('1_gpu_out_' + str(INTERVAL) + '.csv')"
   ],
   "metadata": {
    "collapsed": false,
    "pycharm": {
     "name": "#%%\n"
    }
   }
  },
  {
   "cell_type": "markdown",
   "metadata": {},
   "source": [
    "## Accelerometer data processing"
   ]
  },
  {
   "cell_type": "code",
   "execution_count": 31,
   "metadata": {
    "ExecuteTime": {
     "end_time": "2019-12-11T20:49:27.878241Z",
     "start_time": "2019-12-11T20:49:27.876024Z"
    }
   },
   "outputs": [],
   "source": [
    "acc_path_raw = '../tests/raw-data/acc/1.csv'"
   ]
  },
  {
   "cell_type": "code",
   "execution_count": null,
   "metadata": {
    "ExecuteTime": {
     "end_time": "2019-12-11T20:49:28.612208Z",
     "start_time": "2019-12-11T20:49:28.432552Z"
    },
    "pycharm": {
     "is_executing": true
    }
   },
   "outputs": [],
   "source": [
    "acc_data_raw = spark.read.text(acc_path_raw)\n",
    "acc_data_raw.cache()\n",
    "acc_data_raw.checkpoint()"
   ]
  },
  {
   "cell_type": "code",
   "execution_count": null,
   "metadata": {
    "ExecuteTime": {
     "end_time": "2019-12-11T20:49:29.270988Z",
     "start_time": "2019-12-11T20:49:29.224999Z"
    },
    "pycharm": {
     "is_executing": true
    }
   },
   "outputs": [],
   "source": [
    "acc_data_raw.count()"
   ]
  },
  {
   "cell_type": "code",
   "execution_count": 34,
   "metadata": {
    "ExecuteTime": {
     "end_time": "2019-12-11T20:49:30.509021Z",
     "start_time": "2019-12-11T20:49:30.045222Z"
    }
   },
   "outputs": [],
   "source": [
    "ts_name = 'timestamp'\n",
    "\n",
    "interval, acc_data = gen_acc_dataframe(acc_data_raw, ts_name)"
   ]
  },
  {
   "cell_type": "code",
   "execution_count": null,
   "metadata": {
    "ExecuteTime": {
     "end_time": "2019-12-11T20:49:31.479991Z",
     "start_time": "2019-12-11T20:49:31.476172Z"
    },
    "pycharm": {
     "is_executing": true
    }
   },
   "outputs": [],
   "source": [
    "acc_data.printSchema()"
   ]
  },
  {
   "cell_type": "code",
   "execution_count": null,
   "metadata": {
    "ExecuteTime": {
     "end_time": "2019-12-11T20:49:39.058016Z",
     "start_time": "2019-12-11T20:49:32.063566Z"
    },
    "pycharm": {
     "is_executing": true
    }
   },
   "outputs": [],
   "source": [
    "acc_columns = ['axis1','axis2','axis3','steps','lux','incl_off','incl_standing','incl_sitting','incl_lying']\n",
    "acc_data_ext = split_acc_data(acc_data, acc_columns)\n",
    "acc_data_ext.cache()\n",
    "acc_data_ext.show(20)"
   ]
  },
  {
   "cell_type": "code",
   "execution_count": null,
   "metadata": {
    "ExecuteTime": {
     "end_time": "2019-12-11T20:44:47.372516Z",
     "start_time": "2019-12-11T20:44:44.259871Z"
    },
    "pycharm": {
     "is_executing": true
    }
   },
   "outputs": [],
   "source": [
    "ts_name = 'timestamp'\n",
    "INTERVAL = 5 #seconds\n",
    "window = INTERVAL\n",
    "\n",
    "acc_data_act = select_acc_intervals(acc_data_ext, ts_name, interval, window, False, True)\n",
    "acc_data_act.show(20, False)"
   ]
  },
  {
   "cell_type": "code",
   "execution_count": null,
   "metadata": {
    "ExecuteTime": {
     "end_time": "2019-12-11T16:44:01.066214Z",
     "start_time": "2019-12-11T16:43:59.540307Z"
    },
    "pycharm": {
     "is_executing": true
    }
   },
   "outputs": [],
   "source": [
    "LightCO, ModerateCO, HardCO, VeryHardCO = (100, 1953, 5725, 9498)\n",
    "window = INTERVAL\n",
    "acc_data_act = activity_count(acc_data_act, 'timestamp', window, LightCO, ModerateCO, HardCO, VeryHardCO, False)\n",
    "acc_data_act.cache()\n",
    "acc_data_act.checkpoint()"
   ]
  },
  {
   "cell_type": "code",
   "execution_count": null,
   "metadata": {
    "ExecuteTime": {
     "end_time": "2019-12-11T16:44:02.773808Z",
     "start_time": "2019-12-11T16:44:02.769840Z"
    },
    "pycharm": {
     "is_executing": true
    }
   },
   "outputs": [],
   "source": [
    "acc_data_act.printSchema()"
   ]
  },
  {
   "cell_type": "code",
   "execution_count": null,
   "metadata": {
    "ExecuteTime": {
     "end_time": "2019-12-11T16:44:04.034802Z",
     "start_time": "2019-12-11T16:44:03.926288Z"
    },
    "pycharm": {
     "is_executing": true
    }
   },
   "outputs": [],
   "source": [
    "acc_data_act.show()"
   ]
  },
  {
   "cell_type": "code",
   "execution_count": null,
   "metadata": {
    "ExecuteTime": {
     "end_time": "2019-12-11T16:44:26.688604Z",
     "start_time": "2019-12-11T16:44:08.787158Z"
    },
    "pycharm": {
     "is_executing": true
    }
   },
   "outputs": [],
   "source": [
    "# DETERMINE NON-WEAR PERIOD\n",
    "ts_name = 'timestamp'\n",
    "AC_name = 'activity'\n",
    "AI_name = 'activityIntensity'\n",
    "new_col = 'non_wear'\n",
    "window = INTERVAL\n",
    "minutes_zeros_row = 90\n",
    "\n",
    "acc_data_act = non_wear_filter(acc_data_act, ts_name, AC_name, AI_name, window, minutes_zeros_row)\n",
    "acc_data_act.cache()\n",
    "acc_data_act.checkpoint()\n",
    "acc_data_act.count()"
   ]
  },
  {
   "cell_type": "code",
   "execution_count": null,
   "metadata": {
    "ExecuteTime": {
     "end_time": "2019-12-11T16:44:54.074171Z",
     "start_time": "2019-12-11T16:44:28.454517Z"
    },
    "pycharm": {
     "is_executing": true
    }
   },
   "outputs": [],
   "source": [
    "# DETERMINE ACTIVITY BOUT NUMBER\n",
    "ts_name = 'timestamp'\n",
    "AC_name = 'activity'\n",
    "new_col = 'activityBoutNumber'\n",
    "window = INTERVAL\n",
    "UP = 9999\n",
    "LOW = 1953\n",
    "DURATION = 10\n",
    "TOL = 2\n",
    "\n",
    "acc_data_act = activity_bout_filter(acc_data_act, ts_name, AC_name, new_col, window, UP, LOW, DURATION, TOL)\n",
    "acc_data_act.cache()\n",
    "acc_data_act.checkpoint()\n",
    "acc_data_act.count()"
   ]
  },
  {
   "cell_type": "code",
   "execution_count": null,
   "metadata": {
    "ExecuteTime": {
     "end_time": "2019-12-11T16:45:57.920545Z",
     "start_time": "2019-12-11T16:45:02.876670Z"
    },
    "pycharm": {
     "is_executing": true
    }
   },
   "outputs": [],
   "source": [
    "# DETERMINE SEDENTARY BOUT NUMBER\n",
    "ts_name = 'timestamp'\n",
    "AC_name = 'activity'\n",
    "new_col = 'sedentaryBoutNumber'\n",
    "window = INTERVAL\n",
    "UP=180\n",
    "LOW=0\n",
    "DURATION=30\n",
    "TOL=1\n",
    "\n",
    "acc_data_act = sedentary_bout_filter(acc_data_act, ts_name, AC_name, new_col, window, UP, LOW, DURATION, TOL)\n",
    "acc_data_act.cache()\n",
    "acc_data_act.checkpoint()\n",
    "acc_data_act.count()"
   ]
  },
  {
   "cell_type": "code",
   "execution_count": null,
   "metadata": {
    "ExecuteTime": {
     "end_time": "2019-12-11T16:46:02.552766Z",
     "start_time": "2019-12-11T16:46:01.684906Z"
    },
    "scrolled": true,
    "pycharm": {
     "is_executing": true
    }
   },
   "outputs": [],
   "source": [
    "acc_data_act.show(20,False)"
   ]
  },
  {
   "cell_type": "code",
   "execution_count": null,
   "metadata": {
    "ExecuteTime": {
     "end_time": "2019-12-11T16:46:04.179393Z",
     "start_time": "2019-12-11T16:46:04.175088Z"
    }
   },
   "outputs": [],
   "source": [
    "# acc_data_act.toPandas().to_csv('1_acc_out_' + str(INTERVAL) + '.csv')"
   ]
  },
  {
   "cell_type": "markdown",
   "source": [
    "## Merge dataframes"
   ],
   "metadata": {
    "collapsed": false
   }
  },
  {
   "cell_type": "code",
   "execution_count": null,
   "metadata": {
    "ExecuteTime": {
     "end_time": "2019-12-11T16:46:12.623660Z",
     "start_time": "2019-12-11T16:46:08.986111Z"
    }
   },
   "outputs": [],
   "source": [
    "merge_data = gps_data3.join(acc_data_act, 'timestamp', how='left' ).orderBy('timestamp')\n",
    "merge_data.cache()\n",
    "merge_data.count()"
   ]
  },
  {
   "cell_type": "code",
   "execution_count": null,
   "metadata": {
    "ExecuteTime": {
     "end_time": "2019-12-11T16:46:13.666933Z",
     "start_time": "2019-12-11T16:46:13.660518Z"
    }
   },
   "outputs": [],
   "source": [
    "merge_data.printSchema()"
   ]
  },
  {
   "cell_type": "code",
   "execution_count": null,
   "metadata": {
    "ExecuteTime": {
     "end_time": "2019-12-11T16:46:16.980907Z",
     "start_time": "2019-12-11T16:46:15.032719Z"
    }
   },
   "outputs": [],
   "source": [
    "merge_data.show(20, False)"
   ]
  },
  {
   "cell_type": "code",
   "execution_count": null,
   "metadata": {
    "ExecuteTime": {
     "end_time": "2019-12-11T16:46:25.549058Z",
     "start_time": "2019-12-11T16:46:21.528798Z"
    }
   },
   "outputs": [],
   "source": [
    "merge_data2 = acc_data_act.join(gps_data3, 'timestamp', how='left' ).orderBy('timestamp')\n",
    "merge_data2.cache()\n",
    "merge_data2.count()"
   ]
  },
  {
   "cell_type": "code",
   "execution_count": null,
   "metadata": {
    "ExecuteTime": {
     "end_time": "2019-12-11T16:46:26.735878Z",
     "start_time": "2019-12-11T16:46:26.731980Z"
    }
   },
   "outputs": [],
   "source": [
    "merge_data2.printSchema()"
   ]
  },
  {
   "cell_type": "code",
   "execution_count": null,
   "metadata": {
    "ExecuteTime": {
     "end_time": "2019-12-11T16:46:30.262782Z",
     "start_time": "2019-12-11T16:46:28.274898Z"
    }
   },
   "outputs": [],
   "source": [
    "merge_data2.show(2000, False)"
   ]
  },
  {
   "cell_type": "code",
   "execution_count": null,
   "metadata": {},
   "outputs": [],
   "source": [
    "# merge_data2.toPandas().to_csv('1_merged_out_' + str(INTERVAL) + '.csv')"
   ]
  }
 ],
 "metadata": {
  "kernelspec": {
   "display_name": "Python 3",
   "language": "python",
   "name": "python3"
  },
  "language_info": {
   "codemirror_mode": {
    "name": "ipython",
    "version": 3
   },
   "file_extension": ".py",
   "mimetype": "text/x-python",
   "name": "python",
   "nbconvert_exporter": "python",
   "pygments_lexer": "ipython3",
   "version": "3.7.5"
  },
  "toc": {
   "base_numbering": 1,
   "nav_menu": {},
   "number_sections": true,
   "sideBar": true,
   "skip_h1_title": false,
   "title_cell": "Table of Contents",
   "title_sidebar": "Contents",
   "toc_cell": false,
   "toc_position": {},
   "toc_section_display": true,
   "toc_window_display": false
  },
  "varInspector": {
   "cols": {
    "lenName": 16,
    "lenType": 16,
    "lenVar": 40
   },
   "kernels_config": {
    "python": {
     "delete_cmd_postfix": "",
     "delete_cmd_prefix": "del ",
     "library": "var_list.py",
     "varRefreshCmd": "print(var_dic_list())"
    },
    "r": {
     "delete_cmd_postfix": ") ",
     "delete_cmd_prefix": "rm(",
     "library": "var_list.r",
     "varRefreshCmd": "cat(var_dic_list()) "
    }
   },
   "types_to_exclude": [
    "module",
    "function",
    "builtin_function_or_method",
    "instance",
    "_Feature"
   ],
   "window_display": false
  }
 },
 "nbformat": 4,
 "nbformat_minor": 2
}