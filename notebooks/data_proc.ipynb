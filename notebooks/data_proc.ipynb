{
 "cells": [
  {
   "cell_type": "code",
   "execution_count": 2,
   "metadata": {
    "ExecuteTime": {
     "end_time": "2019-12-11T20:45:32.232473Z",
     "start_time": "2019-12-11T20:45:31.990901Z"
    }
   },
   "outputs": [],
   "source": [
    "from pyspark.conf import SparkConf\n",
    "from src.GPSProcessing import *\n",
    "from src.AccProcessing import *"
   ]
  },
  {
   "cell_type": "code",
   "execution_count": 3,
   "metadata": {
    "ExecuteTime": {
     "end_time": "2019-12-11T20:45:36.354071Z",
     "start_time": "2019-12-11T20:45:32.859714Z"
    }
   },
   "outputs": [
    {
     "data": {
      "text/plain": "[('spark.sql.shuffle.partitions', '20'),\n ('spark.app.name', 'test'),\n ('spark.driver.host', '127.0.0.1'),\n ('spark.app.id', 'local-1637835521851'),\n ('spark.cleaner.referenceTracking.cleanCheckpoints', 'True'),\n ('spark.executor.id', 'driver'),\n ('spark.driver.memory', '16g'),\n ('spark.driver.port', '62262'),\n ('spark.executor.memory', '16g'),\n ('spark.scheduler.listenerbus.eventqueue.capacity', '50000'),\n ('spark.rdd.compress', 'True'),\n ('spark.memory.fraction', '0.6'),\n ('spark.serializer.objectStreamReset', '100'),\n ('spark.master', 'local[*]'),\n ('spark.submit.deployMode', 'client'),\n ('spark.memory.offHeap.enabled', 'True'),\n ('spark.ui.showConsoleProgress', 'true'),\n ('spark.memory.offHeap.size', '16g')]"
     },
     "execution_count": 3,
     "metadata": {},
     "output_type": "execute_result"
    }
   ],
   "source": [
    "# REFERENCE: https://spark.apache.org/docs/latest/configuration.html\n",
    "\n",
    "conf = SparkConf().setAll([('spark.memory.fraction', '0.6'),\n",
    "                           ('spark.executor.memory', '16g'),\n",
    "                           ('spark.driver.memory', '16g'),\n",
    "                           ('spark.sql.shuffle.partitions', '20'),\n",
    "                           ('spark.memory.offHeap.enabled', True),\n",
    "                           ('spark.memory.offHeap.size', '16g'),\n",
    "                           ('spark.cleaner.referenceTracking.cleanCheckpoints', True),\n",
    "                           ('spark.driver.host', '127.0.0.1'),\n",
    "                           ('spark.scheduler.listenerbus.eventqueue.capacity', '50000')]  # ,\n",
    "                          )\n",
    "\n",
    "spark = SparkSession.builder.config(conf=conf).master(\"local[*]\").appName(\"test\").getOrCreate()\n",
    "sc = spark.sparkContext\n",
    "sc.setLogLevel(\"ERROR\")\n",
    "sc.setCheckpointDir('checkpoints')\n",
    "sc.getConf().getAll()"
   ]
  },
  {
   "cell_type": "code",
   "execution_count": 4,
   "metadata": {
    "ExecuteTime": {
     "end_time": "2019-12-11T20:45:36.391219Z",
     "start_time": "2019-12-11T20:45:36.384512Z"
    }
   },
   "outputs": [
    {
     "data": {
      "text/plain": "8"
     },
     "execution_count": 4,
     "metadata": {},
     "output_type": "execute_result"
    }
   ],
   "source": [
    "sc.defaultParallelism"
   ]
  },
  {
   "cell_type": "code",
   "execution_count": 5,
   "metadata": {
    "ExecuteTime": {
     "end_time": "2019-12-11T20:45:36.435332Z",
     "start_time": "2019-12-11T20:45:36.429615Z"
    }
   },
   "outputs": [
    {
     "data": {
      "text/plain": "2"
     },
     "execution_count": 5,
     "metadata": {},
     "output_type": "execute_result"
    }
   ],
   "source": [
    "sc.defaultMinPartitions"
   ]
  },
  {
   "cell_type": "code",
   "execution_count": 6,
   "metadata": {
    "ExecuteTime": {
     "end_time": "2019-12-11T20:45:37.049293Z",
     "start_time": "2019-12-11T20:45:37.042038Z"
    }
   },
   "outputs": [
    {
     "data": {
      "text/plain": "<SparkContext master=local[*] appName=test>",
      "text/html": "\n        <div>\n            <p><b>SparkContext</b></p>\n\n            <p><a href=\"http://127.0.0.1:4040\">Spark UI</a></p>\n\n            <dl>\n              <dt>Version</dt>\n                <dd><code>v2.4.0</code></dd>\n              <dt>Master</dt>\n                <dd><code>local[*]</code></dd>\n              <dt>AppName</dt>\n                <dd><code>test</code></dd>\n            </dl>\n        </div>\n        "
     },
     "execution_count": 6,
     "metadata": {},
     "output_type": "execute_result"
    }
   ],
   "source": [
    "sc"
   ]
  },
  {
   "cell_type": "markdown",
   "metadata": {
    "heading_collapsed": true
   },
   "source": [
    "## GPS data processing"
   ]
  },
  {
   "cell_type": "code",
   "execution_count": 7,
   "metadata": {
    "ExecuteTime": {
     "end_time": "2019-12-11T16:01:28.866865Z",
     "start_time": "2019-12-11T16:01:28.863676Z"
    },
    "hidden": true
   },
   "outputs": [],
   "source": [
    "gps_path_raw = '../tests/raw-data/gps/1.csv'"
   ]
  },
  {
   "cell_type": "code",
   "execution_count": 8,
   "metadata": {
    "ExecuteTime": {
     "end_time": "2019-12-11T16:02:24.217769Z",
     "start_time": "2019-12-11T16:02:20.110246Z"
    },
    "hidden": true
   },
   "outputs": [],
   "source": [
    "gps_data_raw = spark.read.csv(gps_path_raw, header=True, inferSchema=True)"
   ]
  },
  {
   "cell_type": "code",
   "execution_count": 9,
   "metadata": {
    "ExecuteTime": {
     "end_time": "2019-12-11T16:02:25.125836Z",
     "start_time": "2019-12-11T16:02:24.847041Z"
    },
    "hidden": true
   },
   "outputs": [
    {
     "name": "stdout",
     "output_type": "stream",
     "text": [
      "+-----+----+---------+--------+----------+----------+---+-----+---------+---+----------+---+------+-----+----------+----+----+----+----+----+----+----+---------+-------+----+--------+\n",
      "|INDEX| RCR| UTC DATE|UTC TIME|LOCAL DATE|LOCAL TIME| MS|VALID| LATITUDE|N/S| LONGITUDE|E/W|HEIGHT|SPEED|   HEADING|DSTA|DAGE|PDOP|HDOP|VDOP|NSAT| SID|Elevation|Azimuth| SNR|Distance|\n",
      "+-----+----+---------+--------+----------+----------+---+-----+---------+---+----------+---+------+-----+----------+----+----+----+----+----+----+----+---------+-------+----+--------+\n",
      "|    1|null|2016/8/17| 0:23:29| 2016/8/17|   0:23:29|  0| null| 51.01609|  N|114.099305|  W|     0|0.121|113.437589|   0|   0|   0|   0|   0|   0|null|     null|   null|null|     0.0|\n",
      "|    2|null|2016/8/17| 0:23:34| 2016/8/17|   0:23:34|  0| null|51.016075|  N| 114.09925|  W|  1084|2.127|291.672465|   0|   0|   0|   0|   0|   0|null|     null|   null|null|    4.19|\n",
      "|    3|null|2016/8/17| 0:23:39| 2016/8/17|   0:23:39|  0| null|51.016078|  N|114.099263|  W|  1076|0.312|128.477084|   0|   0|   0|   0|   0|   0|null|     null|   null|null|     1.0|\n",
      "|    4|null|2016/8/17| 0:23:44| 2016/8/17|   0:23:44|  0| null|51.016072|  N| 114.09925|  W|  1077|0.544| 24.197182|   0|   0|   0|   0|   0|   0|null|     null|   null|null|    1.19|\n",
      "|    5|null|2016/8/17| 0:23:49| 2016/8/17|   0:23:49|  0| null|51.016083|  N|114.099242|  W|  1077|0.061| 32.174088|   0|   0|   0|   0|   0|   0|null|     null|   null|null|    1.42|\n",
      "|    6|null|2016/8/17| 0:23:54| 2016/8/17|   0:23:54|  0| null|51.016085|  N| 114.09924|  W|  1078|0.538|308.477099|   0|   0|   0|   0|   0|   0|null|     null|   null|null|    0.21|\n",
      "|    7|null|2016/8/17| 0:23:59| 2016/8/17|   0:23:59|  0| null|51.016088|  N|114.099247|  W|  1077|0.515|       0.0|   0|   0|   0|   0|   0|   0|null|     null|   null|null|    0.59|\n",
      "|    8|null|2016/8/17| 0:24:04| 2016/8/17|   0:24:04|  0| null|51.016088|  N|114.099247|  W|  1077|0.174| 79.983787|   0|   0|   0|   0|   0|   0|null|     null|   null|null|     0.0|\n",
      "|    9|null|2016/8/17| 0:24:09| 2016/8/17|   0:24:09|  0| null|51.016092|  N|114.099217|  W|  1076|4.102|  6.974073|   0|   0|   0|   0|   0|   0|null|     null|   null|null|    2.13|\n",
      "|   10|null|2016/8/17| 0:24:14| 2016/8/17|   0:24:14|  0| null|51.016152|  N|114.099205|  W|  1077|5.964| 11.122162|   0|   0|   0|   0|   0|   0|null|     null|   null|null|    6.72|\n",
      "|   11|null|2016/8/17| 0:24:19| 2016/8/17|   0:24:19|  0| null|51.016205|  N|114.099188|  W|  1077|4.868|314.168992|   0|   0|   0|   0|   0|   0|null|     null|   null|null|    6.04|\n",
      "|   12|null|2016/8/17| 0:24:24| 2016/8/17|   0:24:24|  0| null|51.016223|  N|114.099218|  W|  1076|2.337|252.363805|   0|   0|   0|   0|   0|   0|null|     null|   null|null|    2.93|\n",
      "|   13|null|2016/8/17| 0:24:29| 2016/8/17|   0:24:29|  0| null|51.016218|  N|114.099243|  W|  1078| 0.71| 89.999996|   0|   0|   0|   0|   0|   0|null|     null|   null|null|    1.84|\n",
      "|   14|null|2016/8/17| 0:24:34| 2016/8/17|   0:24:34|  0| null|51.016218|  N|114.099233|  W|  1078|0.646| 89.999994|   0|   0|   0|   0|   0|   0|null|     null|   null|null|     0.7|\n",
      "|   15|null|2016/8/17| 0:24:39| 2016/8/17|   0:24:39|  0| null|51.016218|  N|114.099218|  W|  1078|0.165|     180.0|   0|   0|   0|   0|   0|   0|null|     null|   null|null|    1.05|\n",
      "|   16|null|2016/8/17| 0:24:44| 2016/8/17|   0:24:44|  0| null|51.016217|  N|114.099218|  W|  1078|0.377| 89.999999|   0|   0|   0|   0|   0|   0|null|     null|   null|null|    0.19|\n",
      "|   17|null|2016/8/17| 0:24:49| 2016/8/17|   0:24:49|  0| null|51.016217|  N|114.099217|  W|  1078|0.041|147.825984|   0|   0|   0|   0|   0|   0|null|     null|   null|null|    0.13|\n",
      "|   18|null|2016/8/17| 0:24:54| 2016/8/17|   0:24:54|  0| null|51.016215|  N|114.099215|  W|  1078|0.255|291.672521|   0|   0|   0|   0|   0|   0|null|     null|   null|null|    0.23|\n",
      "|   19|null|2016/8/17| 0:24:59| 2016/8/17|   0:24:59|  0| null|51.016217|  N|114.099222|  W|  1078|0.561|308.477184|   0|   0|   0|   0|   0|   0|null|     null|   null|null|     0.5|\n",
      "|   20|null|2016/8/17| 0:25:04| 2016/8/17|   0:25:04|  0| null|51.016225|  N|114.099238|  W|  1078|2.248|327.826004|   0|   0|   0|   0|   0|   0|null|     null|   null|null|    1.49|\n",
      "+-----+----+---------+--------+----------+----------+---+-----+---------+---+----------+---+------+-----+----------+----+----+----+----+----+----+----+---------+-------+----+--------+\n",
      "only showing top 20 rows\n",
      "\n"
     ]
    }
   ],
   "source": [
    "gps_data_raw.show()"
   ]
  },
  {
   "cell_type": "code",
   "execution_count": 10,
   "metadata": {
    "ExecuteTime": {
     "end_time": "2019-12-11T16:03:26.209712Z",
     "start_time": "2019-12-11T16:02:41.958953Z"
    },
    "hidden": true
   },
   "outputs": [],
   "source": [
    "date_format = 'yyyy/MM/dd'\n",
    "time_format = 'HH:mm:ss'\n",
    "datetime_format = date_format + ' ' + time_format\n",
    "\n",
    "ts_name = 'timestamp'\n",
    "dist_name = 'distance'\n",
    "speed_name = 'speed'\n",
    "height_name = 'height'\n",
    "fix_type_name = 'fixTypeCode'\n",
    "\n",
    "gps_data = gen_gps_dataframe(gps_data_raw, ts_name, datetime_format)"
   ]
  },
  {
   "cell_type": "code",
   "execution_count": 11,
   "metadata": {
    "ExecuteTime": {
     "end_time": "2019-12-11T16:03:28.072213Z",
     "start_time": "2019-12-11T16:03:28.067570Z"
    },
    "hidden": true
   },
   "outputs": [
    {
     "name": "stdout",
     "output_type": "stream",
     "text": [
      "root\n",
      " |-- timestamp: timestamp (nullable = true)\n",
      " |-- dow: string (nullable = true)\n",
      " |-- lat: double (nullable = true)\n",
      " |-- lon: double (nullable = true)\n",
      " |-- distance: double (nullable = false)\n",
      " |-- height: double (nullable = true)\n",
      " |-- speed: double (nullable = true)\n",
      "\n"
     ]
    }
   ],
   "source": [
    "gps_data.printSchema()"
   ]
  },
  {
   "cell_type": "code",
   "execution_count": 12,
   "metadata": {
    "ExecuteTime": {
     "end_time": "2019-12-11T16:03:32.170142Z",
     "start_time": "2019-12-11T16:03:30.378699Z"
    },
    "hidden": true
   },
   "outputs": [
    {
     "data": {
      "text/plain": "115135"
     },
     "execution_count": 12,
     "metadata": {},
     "output_type": "execute_result"
    }
   ],
   "source": [
    "gps_data.count()"
   ]
  },
  {
   "cell_type": "code",
   "execution_count": 13,
   "metadata": {
    "ExecuteTime": {
     "end_time": "2019-12-11T16:03:38.862493Z",
     "start_time": "2019-12-11T16:03:37.593026Z"
    },
    "hidden": true
   },
   "outputs": [
    {
     "name": "stdout",
     "output_type": "stream",
     "text": [
      "+-------------------+---+---------+-----------+--------+------+-----+\n",
      "|          timestamp|dow|      lat|        lon|distance|height|speed|\n",
      "+-------------------+---+---------+-----------+--------+------+-----+\n",
      "|2016-08-16 18:23:29|  2| 51.01609|-114.099305|     0.0|   0.0|0.121|\n",
      "|2016-08-16 18:23:34|  2|51.016075| -114.09925|     0.0|1084.0|2.127|\n",
      "|2016-08-16 18:23:39|  2|51.016078|-114.099263|     0.0|1076.0|0.312|\n",
      "|2016-08-16 18:23:44|  2|51.016072| -114.09925|     0.0|1077.0|0.544|\n",
      "|2016-08-16 18:23:49|  2|51.016083|-114.099242|     0.0|1077.0|0.061|\n",
      "|2016-08-16 18:23:54|  2|51.016085| -114.09924|     0.0|1078.0|0.538|\n",
      "|2016-08-16 18:23:59|  2|51.016088|-114.099247|     0.0|1077.0|0.515|\n",
      "|2016-08-16 18:24:04|  2|51.016088|-114.099247|     0.0|1077.0|0.174|\n",
      "|2016-08-16 18:24:09|  2|51.016092|-114.099217|     0.0|1076.0|4.102|\n",
      "|2016-08-16 18:24:14|  2|51.016152|-114.099205|     0.0|1077.0|5.964|\n",
      "|2016-08-16 18:24:19|  2|51.016205|-114.099188|     0.0|1077.0|4.868|\n",
      "|2016-08-16 18:24:24|  2|51.016223|-114.099218|     0.0|1076.0|2.337|\n",
      "|2016-08-16 18:24:29|  2|51.016218|-114.099243|     0.0|1078.0| 0.71|\n",
      "|2016-08-16 18:24:34|  2|51.016218|-114.099233|     0.0|1078.0|0.646|\n",
      "|2016-08-16 18:24:39|  2|51.016218|-114.099218|     0.0|1078.0|0.165|\n",
      "|2016-08-16 18:24:44|  2|51.016217|-114.099218|     0.0|1078.0|0.377|\n",
      "|2016-08-16 18:24:49|  2|51.016217|-114.099217|     0.0|1078.0|0.041|\n",
      "|2016-08-16 18:24:54|  2|51.016215|-114.099215|     0.0|1078.0|0.255|\n",
      "|2016-08-16 18:24:59|  2|51.016217|-114.099222|     0.0|1078.0|0.561|\n",
      "|2016-08-16 18:25:04|  2|51.016225|-114.099238|     0.0|1078.0|2.248|\n",
      "+-------------------+---+---------+-----------+--------+------+-----+\n",
      "only showing top 20 rows\n",
      "\n"
     ]
    }
   ],
   "source": [
    "gps_data.show()"
   ]
  },
  {
   "cell_type": "code",
   "execution_count": 14,
   "metadata": {
    "ExecuteTime": {
     "end_time": "2019-12-11T16:03:44.501825Z",
     "start_time": "2019-12-11T16:03:43.291868Z"
    },
    "hidden": true
   },
   "outputs": [
    {
     "name": "stdout",
     "output_type": "stream",
     "text": [
      "====> filter GPS data every 5 seconds...\n",
      "      time elapsed: 00:00:02\n"
     ]
    }
   ],
   "source": [
    "# Filter timestamps over given interval\n",
    "INTERVAL = 5\n",
    "\n",
    "print(\"====> filter GPS data every {} seconds...\".format(str(INTERVAL)))\n",
    "start_time = time.time()\n",
    "gps_data = select_gps_intervals(gps_data, ts_name, INTERVAL)\n",
    "elapsed_time = time.time() - start_time\n",
    "print(\"      time elapsed: {}\".format(time.strftime(\"%H:%M:%S\", time.gmtime(elapsed_time))))"
   ]
  },
  {
   "cell_type": "code",
   "execution_count": 15,
   "metadata": {
    "ExecuteTime": {
     "end_time": "2019-12-11T16:03:50.952850Z",
     "start_time": "2019-12-11T16:03:47.195303Z"
    },
    "hidden": true
   },
   "outputs": [
    {
     "name": "stdout",
     "output_type": "stream",
     "text": [
      "====> set fix type...\n",
      "      time elapsed: 00:00:05\n"
     ]
    }
   ],
   "source": [
    "# Set fix type\n",
    "\n",
    "ws = 600\n",
    "\n",
    "print(\"====> set fix type...\")\n",
    "start_time = time.time()\n",
    "gps_data = set_fix_type(gps_data, ts_name, fix_type_name, ws).cache()\n",
    "gps_data.checkpoint()\n",
    "gps_data.count()\n",
    "elapsed_time = time.time() - start_time\n",
    "print(\"      time elapsed: {}\".format(time.strftime(\"%H:%M:%S\", time.gmtime(elapsed_time))))"
   ]
  },
  {
   "cell_type": "code",
   "execution_count": 16,
   "metadata": {
    "ExecuteTime": {
     "end_time": "2019-12-11T16:03:51.642829Z",
     "start_time": "2019-12-11T16:03:51.526920Z"
    },
    "hidden": true
   },
   "outputs": [
    {
     "name": "stdout",
     "output_type": "stream",
     "text": [
      "+-------------------+---+---------+-----------+--------+------+-----+-----------+\n",
      "|          timestamp|dow|      lat|        lon|distance|height|speed|fixTypeCode|\n",
      "+-------------------+---+---------+-----------+--------+------+-----+-----------+\n",
      "|2016-08-16 18:23:29|  2| 51.01609|-114.099305|     0.0|   0.0|0.121|          2|\n",
      "|2016-08-16 18:23:34|  2|51.016075| -114.09925|     0.0|1084.0|2.127|          1|\n",
      "|2016-08-16 18:23:39|  2|51.016078|-114.099263|     0.0|1076.0|0.312|          1|\n",
      "|2016-08-16 18:23:44|  2|51.016072| -114.09925|     0.0|1077.0|0.544|          1|\n",
      "|2016-08-16 18:23:49|  2|51.016083|-114.099242|     0.0|1077.0|0.061|          1|\n",
      "|2016-08-16 18:23:54|  2|51.016085| -114.09924|     0.0|1078.0|0.538|          1|\n",
      "|2016-08-16 18:23:59|  2|51.016088|-114.099247|     0.0|1077.0|0.515|          1|\n",
      "|2016-08-16 18:24:04|  2|51.016088|-114.099247|     0.0|1077.0|0.174|          1|\n",
      "|2016-08-16 18:24:09|  2|51.016092|-114.099217|     0.0|1076.0|4.102|          1|\n",
      "|2016-08-16 18:24:14|  2|51.016152|-114.099205|     0.0|1077.0|5.964|          1|\n",
      "|2016-08-16 18:24:19|  2|51.016205|-114.099188|     0.0|1077.0|4.868|          1|\n",
      "|2016-08-16 18:24:24|  2|51.016223|-114.099218|     0.0|1076.0|2.337|          1|\n",
      "|2016-08-16 18:24:29|  2|51.016218|-114.099243|     0.0|1078.0| 0.71|          1|\n",
      "|2016-08-16 18:24:34|  2|51.016218|-114.099233|     0.0|1078.0|0.646|          1|\n",
      "|2016-08-16 18:24:39|  2|51.016218|-114.099218|     0.0|1078.0|0.165|          1|\n",
      "|2016-08-16 18:24:44|  2|51.016217|-114.099218|     0.0|1078.0|0.377|          1|\n",
      "|2016-08-16 18:24:49|  2|51.016217|-114.099217|     0.0|1078.0|0.041|          1|\n",
      "|2016-08-16 18:24:54|  2|51.016215|-114.099215|     0.0|1078.0|0.255|          1|\n",
      "|2016-08-16 18:24:59|  2|51.016217|-114.099222|     0.0|1078.0|0.561|          1|\n",
      "|2016-08-16 18:25:04|  2|51.016225|-114.099238|     0.0|1078.0|2.248|          1|\n",
      "+-------------------+---+---------+-----------+--------+------+-----+-----------+\n",
      "only showing top 20 rows\n",
      "\n"
     ]
    }
   ],
   "source": [
    "gps_data.show()"
   ]
  },
  {
   "cell_type": "code",
   "execution_count": 17,
   "metadata": {
    "ExecuteTime": {
     "end_time": "2019-12-11T16:03:54.000576Z",
     "start_time": "2019-12-11T16:03:53.680581Z"
    },
    "hidden": true
   },
   "outputs": [
    {
     "name": "stdout",
     "output_type": "stream",
     "text": [
      "====> apply velocity filter...\n",
      "      time elapsed: 00:00:00\n"
     ]
    }
   ],
   "source": [
    "# Apply filter on the velocity\n",
    "\n",
    "vmax = 130 # km/h\n",
    "\n",
    "print(\"====> apply velocity filter...\")\n",
    "start_time = time.time()\n",
    "gps_data = filter_speed(gps_data, speed_name, fix_type_name, vmax).cache()\n",
    "gps_data.checkpoint()\n",
    "gps_data.count()\n",
    "elapsed_time = time.time() - start_time\n",
    "print(\"      time elapsed: {}\".format(time.strftime(\"%H:%M:%S\", time.gmtime(elapsed_time))))"
   ]
  },
  {
   "cell_type": "code",
   "execution_count": 18,
   "metadata": {
    "ExecuteTime": {
     "end_time": "2019-12-11T16:03:54.894305Z",
     "start_time": "2019-12-11T16:03:54.533999Z"
    },
    "hidden": true
   },
   "outputs": [
    {
     "name": "stdout",
     "output_type": "stream",
     "text": [
      "====> apply accelaration filter...\n",
      "      time elapsed: 00:00:00\n"
     ]
    }
   ],
   "source": [
    "# Apply filter over max acceleration\n",
    "                                             \n",
    "print(\"====> apply accelaration filter...\")\n",
    "start_time = time.time()\n",
    "gps_data = filter_acceleration(gps_data, speed_name, ts_name, fix_type_name).cache()\n",
    "gps_data.checkpoint()\n",
    "gps_data.count()\n",
    "elapsed_time = time.time() - start_time\n",
    "print(\"      time elapsed: {}\".format(time.strftime(\"%H:%M:%S\", time.gmtime(elapsed_time))))"
   ]
  },
  {
   "cell_type": "code",
   "execution_count": 19,
   "metadata": {
    "ExecuteTime": {
     "end_time": "2019-12-11T16:03:57.325034Z",
     "start_time": "2019-12-11T16:03:56.328860Z"
    },
    "hidden": true
   },
   "outputs": [
    {
     "name": "stdout",
     "output_type": "stream",
     "text": [
      "====> apply height variation filter...\n",
      "      time elapsed: 00:00:01\n"
     ]
    }
   ],
   "source": [
    "# Apply filter on the height variation\n",
    "\n",
    "dhmax=1000\n",
    "\n",
    "print(\"====> apply height variation filter...\")\n",
    "start_time = time.time()\n",
    "gps_data = filter_height(gps_data, height_name, ts_name, fix_type_name, dhmax).cache()\n",
    "gps_data.checkpoint()\n",
    "gps_data.count()\n",
    "elapsed_time = time.time() - start_time\n",
    "print(\"      time elapsed: {}\".format(time.strftime(\"%H:%M:%S\", time.gmtime(elapsed_time))))"
   ]
  },
  {
   "cell_type": "code",
   "execution_count": 20,
   "metadata": {
    "ExecuteTime": {
     "end_time": "2019-12-11T16:03:58.072682Z",
     "start_time": "2019-12-11T16:03:57.935925Z"
    },
    "hidden": true
   },
   "outputs": [
    {
     "data": {
      "text/plain": "115013"
     },
     "execution_count": 20,
     "metadata": {},
     "output_type": "execute_result"
    }
   ],
   "source": [
    "gps_data.count()"
   ]
  },
  {
   "cell_type": "code",
   "execution_count": 21,
   "metadata": {
    "ExecuteTime": {
     "end_time": "2019-12-11T16:04:01.925166Z",
     "start_time": "2019-12-11T16:04:00.283426Z"
    },
    "hidden": true
   },
   "outputs": [
    {
     "name": "stdout",
     "output_type": "stream",
     "text": [
      "====> apply three fixes filter...\n",
      "      time elapsed: 00:00:02\n"
     ]
    }
   ],
   "source": [
    "# Apply filter over three fixes (it also recalculates distance column)\n",
    "\n",
    "dmin = 10\n",
    "dcol = 'distance'\n",
    "\n",
    "print(\"====> apply three fixes filter...\")\n",
    "start_time = time.time()\n",
    "gps_data = filter_change_dist_3_fixes(gps_data, dist_name, ts_name, fix_type_name, dmin).cache()\n",
    "gps_data.checkpoint()\n",
    "gps_data.count()\n",
    "elapsed_time = time.time() - start_time\n",
    "print(\"      time elapsed: {}\".format(time.strftime(\"%H:%M:%S\", time.gmtime(elapsed_time))))"
   ]
  },
  {
   "cell_type": "code",
   "execution_count": 22,
   "metadata": {
    "ExecuteTime": {
     "end_time": "2019-12-11T16:04:02.184983Z",
     "start_time": "2019-12-11T16:04:02.063651Z"
    },
    "hidden": true
   },
   "outputs": [
    {
     "data": {
      "text/plain": "114936"
     },
     "execution_count": 22,
     "metadata": {},
     "output_type": "execute_result"
    }
   ],
   "source": [
    "gps_data.count()"
   ]
  },
  {
   "cell_type": "code",
   "execution_count": 23,
   "metadata": {
    "ExecuteTime": {
     "end_time": "2019-12-11T16:04:03.983218Z",
     "start_time": "2019-12-11T16:04:03.978918Z"
    },
    "hidden": true
   },
   "outputs": [
    {
     "name": "stdout",
     "output_type": "stream",
     "text": [
      "root\n",
      " |-- timestamp: timestamp (nullable = true)\n",
      " |-- dow: string (nullable = true)\n",
      " |-- lat: double (nullable = true)\n",
      " |-- lon: double (nullable = true)\n",
      " |-- distance: string (nullable = true)\n",
      " |-- height: double (nullable = true)\n",
      " |-- speed: double (nullable = true)\n",
      " |-- fixTypeCode: integer (nullable = false)\n",
      "\n"
     ]
    }
   ],
   "source": [
    "gps_data.printSchema()"
   ]
  },
  {
   "cell_type": "code",
   "execution_count": 24,
   "metadata": {
    "ExecuteTime": {
     "end_time": "2019-12-11T16:04:05.825032Z",
     "start_time": "2019-12-11T16:04:05.463036Z"
    },
    "hidden": true
   },
   "outputs": [
    {
     "name": "stdout",
     "output_type": "stream",
     "text": [
      "====> align timestamps...\n",
      "      time elapsed: 00:00:00\n"
     ]
    }
   ],
   "source": [
    "# Round seconds in timestamps according to the interval\n",
    "interval = INTERVAL # seconds\n",
    "ts_name = 'timestamp'\n",
    "\n",
    "print(\"====> align timestamps...\")\n",
    "start_time = time.time()\n",
    "gps_data = round_timestamp(gps_data, ts_name, interval).cache()\n",
    "gps_data.checkpoint()\n",
    "gps_data.count()\n",
    "elapsed_time = time.time() - start_time\n",
    "print(\"      time elapsed: {}\".format(time.strftime(\"%H:%M:%S\", time.gmtime(elapsed_time))))"
   ]
  },
  {
   "cell_type": "code",
   "execution_count": 25,
   "metadata": {
    "ExecuteTime": {
     "end_time": "2019-12-11T16:04:07.590182Z",
     "start_time": "2019-12-11T16:04:07.585508Z"
    },
    "hidden": true
   },
   "outputs": [
    {
     "name": "stdout",
     "output_type": "stream",
     "text": [
      "root\n",
      " |-- timestamp: timestamp (nullable = true)\n",
      " |-- dow: string (nullable = true)\n",
      " |-- lat: double (nullable = true)\n",
      " |-- lon: double (nullable = true)\n",
      " |-- distance: string (nullable = true)\n",
      " |-- height: double (nullable = true)\n",
      " |-- speed: double (nullable = true)\n",
      " |-- fixTypeCode: integer (nullable = false)\n",
      "\n"
     ]
    }
   ],
   "source": [
    "gps_data.printSchema()"
   ]
  },
  {
   "cell_type": "code",
   "execution_count": 26,
   "metadata": {
    "ExecuteTime": {
     "end_time": "2019-12-11T16:04:09.378528Z",
     "start_time": "2019-12-11T16:04:09.268626Z"
    },
    "hidden": true
   },
   "outputs": [
    {
     "name": "stdout",
     "output_type": "stream",
     "text": [
      "+-------------------+---+---------+-----------+-------------------+------+-----+-----------+\n",
      "|          timestamp|dow|      lat|        lon|           distance|height|speed|fixTypeCode|\n",
      "+-------------------+---+---------+-----------+-------------------+------+-----+-----------+\n",
      "|2016-08-16 18:23:25|  2| 51.01609|-114.099305|                0.0|   0.0|0.121|          2|\n",
      "|2016-08-16 18:23:30|  2|51.016075| -114.09925|  4.190762261814708|1084.0|2.127|          1|\n",
      "|2016-08-16 18:23:35|  2|51.016078|-114.099263| 0.9680335753755167|1076.0|0.312|          1|\n",
      "|2016-08-16 18:23:40|  2|51.016072| -114.09925| 1.1271674272734382|1077.0|0.544|          1|\n",
      "|2016-08-16 18:23:45|  2|51.016083|-114.099242| 1.3442430707892563|1077.0|0.061|          1|\n",
      "|2016-08-16 18:23:50|  2|51.016085| -114.09924|0.26257240275150484|1078.0|0.538|          1|\n",
      "|2016-08-16 18:23:55|  2|51.016088|-114.099247|  0.592128034196194|1077.0|0.515|          1|\n",
      "|2016-08-16 18:24:00|  2|51.016088|-114.099247|                0.0|1077.0|0.174|          1|\n",
      "|2016-08-16 18:24:05|  2|51.016092|-114.099217|  2.143858152748787|1076.0|4.102|          1|\n",
      "|2016-08-16 18:24:10|  2|51.016152|-114.099205|  6.720075417134912|1077.0|5.964|          1|\n",
      "|2016-08-16 18:24:15|  2|51.016205|-114.099188|  6.008341738459042|1077.0|4.868|          1|\n",
      "|2016-08-16 18:24:20|  2|51.016223|-114.099218| 2.8981945816185917|1076.0|2.337|          1|\n",
      "|2016-08-16 18:24:25|  2|51.016218|-114.099243| 1.8339163534254006|1078.0| 0.71|          1|\n",
      "|2016-08-16 18:24:30|  2|51.016218|-114.099233| 0.6990885210741994|1078.0|0.646|          1|\n",
      "|2016-08-16 18:24:35|  2|51.016218|-114.099218|    1.0486327811666|1078.0|0.165|          1|\n",
      "|2016-08-16 18:24:40|  2|51.016217|-114.099218|0.11112511391386803|1078.0|0.377|          1|\n",
      "|2016-08-16 18:24:45|  2|51.016217|-114.099217|0.06990885388185802|1078.0|0.041|          1|\n",
      "|2016-08-16 18:24:50|  2|51.016215|-114.099215| 0.2625721903397718|1078.0|0.255|          1|\n",
      "|2016-08-16 18:24:55|  2|51.016217|-114.099222| 0.5374665723852917|1078.0|0.561|          1|\n",
      "|2016-08-16 18:25:00|  2|51.016225|-114.099238| 1.4287959399800825|1078.0|2.248|          1|\n",
      "+-------------------+---+---------+-----------+-------------------+------+-----+-----------+\n",
      "only showing top 20 rows\n",
      "\n"
     ]
    }
   ],
   "source": [
    "gps_data.show()"
   ]
  },
  {
   "cell_type": "code",
   "execution_count": 27,
   "metadata": {
    "ExecuteTime": {
     "end_time": "2019-12-11T16:04:19.545352Z",
     "start_time": "2019-12-11T16:04:19.542838Z"
    },
    "hidden": true
   },
   "outputs": [],
   "source": [
    "gps_data = gps_data.limit(1000)"
   ]
  },
  {
   "cell_type": "code",
   "execution_count": 28,
   "metadata": {
    "ExecuteTime": {
     "end_time": "2019-12-11T16:04:20.177318Z",
     "start_time": "2019-12-11T16:04:20.174338Z"
    },
    "hidden": true
   },
   "outputs": [],
   "source": [
    "min_dist_per_min = 25 # meters\n",
    "min_pause_duration = 120 # second\n",
    "max_pause_time = 180 # seconds"
   ]
  },
  {
   "cell_type": "code",
   "execution_count": 29,
   "metadata": {
    "ExecuteTime": {
     "end_time": "2019-12-11T16:04:22.335371Z",
     "start_time": "2019-12-11T16:04:22.332692Z"
    },
    "hidden": true
   },
   "outputs": [],
   "source": [
    "# %lprun -f detect_trips detect_trips(gps_data, ts_name, dist_name, speed_name, fix_type_name, min_dist_per_min, min_pause_duration, max_pause_time, vmax)"
   ]
  },
  {
   "cell_type": "code",
   "execution_count": 30,
   "metadata": {
    "ExecuteTime": {
     "end_time": "2019-12-11T16:23:16.881907Z",
     "start_time": "2019-12-11T16:04:23.488504Z"
    },
    "hidden": true
   },
   "outputs": [
    {
     "name": "stdout",
     "output_type": "stream",
     "text": [
      "====> detect trips...\n",
      "      time elapsed: 00:02:15\n"
     ]
    }
   ],
   "source": [
    "print(\"====> detect trips...\")\n",
    "start_time = time.time()\n",
    "gps_data2 = detect_trips(gps_data, ts_name, dist_name, speed_name, fix_type_name, min_dist_per_min, \n",
    "                 min_pause_duration, max_pause_time, vmax).cache()\n",
    "gps_data2.count()\n",
    "elapsed_time = time.time() - start_time\n",
    "print(\"      time elapsed: {}\".format(time.strftime(\"%H:%M:%S\", time.gmtime(elapsed_time))))"
   ]
  },
  {
   "cell_type": "code",
   "execution_count": null,
   "metadata": {
    "ExecuteTime": {
     "end_time": "2019-12-11T16:25:05.043880Z",
     "start_time": "2019-12-11T16:25:04.959015Z"
    },
    "hidden": true,
    "pycharm": {
     "is_executing": true
    }
   },
   "outputs": [],
   "source": [
    "gps_data2.printSchema()"
   ]
  },
  {
   "cell_type": "code",
   "execution_count": null,
   "metadata": {
    "ExecuteTime": {
     "end_time": "2019-12-11T16:25:08.969742Z",
     "start_time": "2019-12-11T16:25:06.394657Z"
    },
    "hidden": true,
    "pycharm": {
     "is_executing": true
    }
   },
   "outputs": [],
   "source": [
    "gps_data2.show(10000)"
   ]
  },
  {
   "cell_type": "code",
   "execution_count": null,
   "metadata": {
    "ExecuteTime": {
     "end_time": "2019-12-11T16:26:39.892886Z",
     "start_time": "2019-12-11T16:25:14.008721Z"
    },
    "hidden": true,
    "pycharm": {
     "is_executing": true
    }
   },
   "outputs": [],
   "source": [
    "vehicle_speed_cutoff = 35 # km/h\n",
    "bicycle_speed_cutoff = 10 # km/h \n",
    "walk_speed_cutoff = 1 # km/h\n",
    "speed_percentile = 90\n",
    "speed_segment_length = 30 # m\n",
    "min_trip_length = 100 # m\n",
    "min_trip_duration = 120 # sec\n",
    "\n",
    "ts_name = 'timestamp'\n",
    "dist_name = 'distance'\n",
    "speed_name = 'speed'\n",
    "\n",
    "print(\"====> classify trips...\")\n",
    "start_time = time.time()\n",
    "gps_data3 = classify_trips(gps_data2, ts_name, dist_name, speed_name, fix_type_name,\n",
    "                           vehicle_speed_cutoff, bicycle_speed_cutoff, walk_speed_cutoff, \n",
    "                           min_trip_length, min_trip_duration, speed_segment_length, speed_percentile).cache()\n",
    "gps_data3.count()\n",
    "elapsed_time = time.time() - start_time\n",
    "print(\"      time elapsed: {}\".format(time.strftime(\"%H:%M:%S\", time.gmtime(elapsed_time))))"
   ]
  },
  {
   "cell_type": "code",
   "execution_count": null,
   "metadata": {
    "ExecuteTime": {
     "end_time": "2019-12-11T16:27:32.270422Z",
     "start_time": "2019-12-11T16:27:32.246880Z"
    },
    "hidden": true,
    "pycharm": {
     "is_executing": true
    }
   },
   "outputs": [],
   "source": [
    "gps_data3.printSchema()"
   ]
  },
  {
   "cell_type": "code",
   "execution_count": null,
   "metadata": {
    "ExecuteTime": {
     "end_time": "2019-12-11T16:27:34.663844Z",
     "start_time": "2019-12-11T16:27:33.260800Z"
    },
    "hidden": true,
    "pycharm": {
     "is_executing": true
    }
   },
   "outputs": [],
   "source": [
    "gps_data3.show(10000)"
   ]
  },
  {
   "cell_type": "code",
   "execution_count": null,
   "metadata": {
    "ExecuteTime": {
     "end_time": "2019-12-11T16:27:46.219644Z",
     "start_time": "2019-12-11T16:27:38.773726Z"
    },
    "hidden": true,
    "pycharm": {
     "is_executing": true
    }
   },
   "outputs": [],
   "source": [
    "# Generate missing values up to maximum signal loss\n",
    "\n",
    "print(\"====> fill in missing value...\")\n",
    "start_time = time.time()\n",
    "gps_data3 = fill_timestamp(gps_data3, ts_name, fix_type_name, interval, ws).cache()\n",
    "gps_data3.checkpoint()\n",
    "gps_data3.count()\n",
    "elapsed_time = time.time() - start_time\n",
    "print(\"      time elapsed: {}\".format(time.strftime(\"%H:%M:%S\", time.gmtime(elapsed_time))))"
   ]
  },
  {
   "cell_type": "code",
   "execution_count": null,
   "metadata": {
    "ExecuteTime": {
     "end_time": "2019-12-11T16:27:49.348794Z",
     "start_time": "2019-12-11T16:27:47.902496Z"
    },
    "hidden": true,
    "pycharm": {
     "is_executing": true
    }
   },
   "outputs": [],
   "source": [
    "gps_data3.show(10000)"
   ]
  },
  {
   "cell_type": "code",
   "execution_count": null,
   "outputs": [],
   "source": [
    "# gps_data3.toPandas().to_csv('A01_gpu_out_' + str(INTERVAL) + '.csv')"
   ],
   "metadata": {
    "collapsed": false,
    "pycharm": {
     "name": "#%%\n"
    }
   }
  },
  {
   "cell_type": "markdown",
   "metadata": {},
   "source": [
    "## Accelerometer data processing"
   ]
  },
  {
   "cell_type": "code",
   "execution_count": 31,
   "metadata": {
    "ExecuteTime": {
     "end_time": "2019-12-11T20:49:27.878241Z",
     "start_time": "2019-12-11T20:49:27.876024Z"
    }
   },
   "outputs": [],
   "source": [
    "acc_path_raw = '../tests/raw-data/acc/1.csv'"
   ]
  },
  {
   "cell_type": "code",
   "execution_count": 32,
   "metadata": {
    "ExecuteTime": {
     "end_time": "2019-12-11T20:49:28.612208Z",
     "start_time": "2019-12-11T20:49:28.432552Z"
    }
   },
   "outputs": [
    {
     "data": {
      "text/plain": "DataFrame[value: string]"
     },
     "execution_count": 32,
     "metadata": {},
     "output_type": "execute_result"
    }
   ],
   "source": [
    "acc_data_raw = spark.read.text(acc_path_raw)\n",
    "acc_data_raw.cache()\n",
    "acc_data_raw.checkpoint()"
   ]
  },
  {
   "cell_type": "code",
   "execution_count": 33,
   "metadata": {
    "ExecuteTime": {
     "end_time": "2019-12-11T20:49:29.270988Z",
     "start_time": "2019-12-11T20:49:29.224999Z"
    }
   },
   "outputs": [
    {
     "data": {
      "text/plain": "149341"
     },
     "execution_count": 33,
     "metadata": {},
     "output_type": "execute_result"
    }
   ],
   "source": [
    "acc_data_raw.count()"
   ]
  },
  {
   "cell_type": "code",
   "execution_count": 34,
   "metadata": {
    "ExecuteTime": {
     "end_time": "2019-12-11T20:49:30.509021Z",
     "start_time": "2019-12-11T20:49:30.045222Z"
    }
   },
   "outputs": [],
   "source": [
    "ts_name = 'timestamp'\n",
    "\n",
    "interval, acc_data = gen_acc_dataframe(acc_data_raw, ts_name)"
   ]
  },
  {
   "cell_type": "code",
   "execution_count": 35,
   "metadata": {
    "ExecuteTime": {
     "end_time": "2019-12-11T20:49:31.479991Z",
     "start_time": "2019-12-11T20:49:31.476172Z"
    }
   },
   "outputs": [
    {
     "name": "stdout",
     "output_type": "stream",
     "text": [
      "root\n",
      " |-- timestamp: timestamp (nullable = true)\n",
      " |-- acc_data: string (nullable = true)\n",
      "\n"
     ]
    }
   ],
   "source": [
    "acc_data.printSchema()"
   ]
  },
  {
   "cell_type": "code",
   "execution_count": 36,
   "metadata": {
    "ExecuteTime": {
     "end_time": "2019-12-11T20:49:39.058016Z",
     "start_time": "2019-12-11T20:49:32.063566Z"
    }
   },
   "outputs": [
    {
     "name": "stdout",
     "output_type": "stream",
     "text": [
      "+-------------------+-----+-----+-----+-----+---+--------+-------------+------------+----------+\n",
      "|          timestamp|axis1|axis2|axis3|steps|lux|incl_off|incl_standing|incl_sitting|incl_lying|\n",
      "+-------------------+-----+-----+-----+-----+---+--------+-------------+------------+----------+\n",
      "|2016-08-15 21:35:00|  325|   85|  176|    2|  0|       0|            5|           0|         0|\n",
      "|2016-08-15 21:35:05|  181|  116|   91|    1|  0|       0|            5|           0|         0|\n",
      "|2016-08-15 21:35:10|    4|   47|  153|    0|  0|       0|            0|           0|         5|\n",
      "|2016-08-15 21:35:15|  246|  258|  306|    2|  0|       0|            5|           0|         0|\n",
      "|2016-08-15 21:35:20|  131|   81|   31|    1|  0|       0|            5|           0|         0|\n",
      "|2016-08-15 21:35:25|    0|    0|    0|    0|  0|       0|            0|           0|         5|\n",
      "|2016-08-15 21:35:30|    0|    0|    0|    0|  0|       0|            0|           0|         5|\n",
      "|2016-08-15 21:35:35|    0|    0|    0|    0|  0|       0|            0|           0|         5|\n",
      "|2016-08-15 21:35:40|    0|    0|    0|    0|  0|       0|            0|           0|         5|\n",
      "|2016-08-15 21:35:45|    0|    0|    0|    0|  0|       0|            0|           0|         5|\n",
      "|2016-08-15 21:35:50|    0|    0|    0|    0|  0|       0|            0|           0|         5|\n",
      "|2016-08-15 21:35:55|    0|    0|    0|    0|  0|       0|            0|           0|         5|\n",
      "|2016-08-15 21:36:00|    0|    0|    0|    0|  0|       0|            0|           0|         5|\n",
      "|2016-08-15 21:36:05|    0|    0|    0|    0|  0|       0|            0|           0|         5|\n",
      "|2016-08-15 21:36:10|    0|    0|    0|    0|  0|       0|            0|           0|         5|\n",
      "|2016-08-15 21:36:15|    0|    0|    0|    0|  0|       0|            0|           0|         5|\n",
      "|2016-08-15 21:36:20|    0|    0|    0|    0|  0|       0|            0|           0|         5|\n",
      "|2016-08-15 21:36:25|    0|    0|    0|    0|  0|       0|            0|           0|         5|\n",
      "|2016-08-15 21:36:30|    0|    0|    0|    0|  0|       0|            0|           0|         5|\n",
      "|2016-08-15 21:36:35|    0|    0|    0|    0|  0|       0|            0|           0|         5|\n",
      "+-------------------+-----+-----+-----+-----+---+--------+-------------+------------+----------+\n",
      "only showing top 20 rows\n",
      "\n"
     ]
    }
   ],
   "source": [
    "acc_columns = ['axis1','axis2','axis3','steps','lux','incl_off','incl_standing','incl_sitting','incl_lying']\n",
    "acc_data_ext = split_acc_data(acc_data, acc_columns)\n",
    "acc_data_ext.cache()\n",
    "acc_data_ext.show(20)"
   ]
  },
  {
   "cell_type": "code",
   "execution_count": 37,
   "metadata": {
    "ExecuteTime": {
     "end_time": "2019-12-11T20:44:47.372516Z",
     "start_time": "2019-12-11T20:44:44.259871Z"
    }
   },
   "outputs": [
    {
     "name": "stdout",
     "output_type": "stream",
     "text": [
      "+-------------------+-----+-----+-----+-----+---+--------+-------------+------------+----------+\n",
      "|timestamp          |axis1|axis2|axis3|steps|lux|incl_off|incl_standing|incl_sitting|incl_lying|\n",
      "+-------------------+-----+-----+-----+-----+---+--------+-------------+------------+----------+\n",
      "|2016-08-15 21:35:00|325  |85   |176  |2    |0  |0       |5            |0           |0         |\n",
      "|2016-08-15 21:35:05|181  |116  |91   |1    |0  |0       |5            |0           |0         |\n",
      "|2016-08-15 21:35:10|4    |47   |153  |0    |0  |0       |0            |0           |5         |\n",
      "|2016-08-15 21:35:15|246  |258  |306  |2    |0  |0       |5            |0           |0         |\n",
      "|2016-08-15 21:35:20|131  |81   |31   |1    |0  |0       |5            |0           |0         |\n",
      "|2016-08-15 21:35:25|0    |0    |0    |0    |0  |0       |0            |0           |5         |\n",
      "|2016-08-15 21:35:30|0    |0    |0    |0    |0  |0       |0            |0           |5         |\n",
      "|2016-08-15 21:35:35|0    |0    |0    |0    |0  |0       |0            |0           |5         |\n",
      "|2016-08-15 21:35:40|0    |0    |0    |0    |0  |0       |0            |0           |5         |\n",
      "|2016-08-15 21:35:45|0    |0    |0    |0    |0  |0       |0            |0           |5         |\n",
      "|2016-08-15 21:35:50|0    |0    |0    |0    |0  |0       |0            |0           |5         |\n",
      "|2016-08-15 21:35:55|0    |0    |0    |0    |0  |0       |0            |0           |5         |\n",
      "|2016-08-15 21:36:00|0    |0    |0    |0    |0  |0       |0            |0           |5         |\n",
      "|2016-08-15 21:36:05|0    |0    |0    |0    |0  |0       |0            |0           |5         |\n",
      "|2016-08-15 21:36:10|0    |0    |0    |0    |0  |0       |0            |0           |5         |\n",
      "|2016-08-15 21:36:15|0    |0    |0    |0    |0  |0       |0            |0           |5         |\n",
      "|2016-08-15 21:36:20|0    |0    |0    |0    |0  |0       |0            |0           |5         |\n",
      "|2016-08-15 21:36:25|0    |0    |0    |0    |0  |0       |0            |0           |5         |\n",
      "|2016-08-15 21:36:30|0    |0    |0    |0    |0  |0       |0            |0           |5         |\n",
      "|2016-08-15 21:36:35|0    |0    |0    |0    |0  |0       |0            |0           |5         |\n",
      "+-------------------+-----+-----+-----+-----+---+--------+-------------+------------+----------+\n",
      "only showing top 20 rows\n",
      "\n"
     ]
    }
   ],
   "source": [
    "ts_name = 'timestamp'\n",
    "INTERVAL = 5 #seconds\n",
    "window = INTERVAL\n",
    "\n",
    "acc_data_act = select_acc_intervals(acc_data_ext, ts_name, interval, window, False, True)\n",
    "acc_data_act.show(20, False)"
   ]
  },
  {
   "cell_type": "code",
   "execution_count": 38,
   "metadata": {
    "ExecuteTime": {
     "end_time": "2019-12-11T16:44:01.066214Z",
     "start_time": "2019-12-11T16:43:59.540307Z"
    }
   },
   "outputs": [
    {
     "data": {
      "text/plain": "DataFrame[timestamp: timestamp, activity: int, activityIntensity: string]"
     },
     "execution_count": 38,
     "metadata": {},
     "output_type": "execute_result"
    }
   ],
   "source": [
    "LightCO, ModerateCO, HardCO, VeryHardCO = (100, 1953, 5725, 9498)\n",
    "window = INTERVAL\n",
    "acc_data_act = activity_count(acc_data_act, 'timestamp', window, LightCO, ModerateCO, HardCO, VeryHardCO, False)\n",
    "acc_data_act.cache()\n",
    "acc_data_act.checkpoint()"
   ]
  },
  {
   "cell_type": "code",
   "execution_count": 39,
   "metadata": {
    "ExecuteTime": {
     "end_time": "2019-12-11T16:44:02.773808Z",
     "start_time": "2019-12-11T16:44:02.769840Z"
    }
   },
   "outputs": [
    {
     "name": "stdout",
     "output_type": "stream",
     "text": [
      "root\n",
      " |-- timestamp: timestamp (nullable = true)\n",
      " |-- activity: integer (nullable = true)\n",
      " |-- activityIntensity: string (nullable = true)\n",
      "\n"
     ]
    }
   ],
   "source": [
    "acc_data_act.printSchema()"
   ]
  },
  {
   "cell_type": "code",
   "execution_count": 40,
   "metadata": {
    "ExecuteTime": {
     "end_time": "2019-12-11T16:44:04.034802Z",
     "start_time": "2019-12-11T16:44:03.926288Z"
    }
   },
   "outputs": [
    {
     "name": "stdout",
     "output_type": "stream",
     "text": [
      "+-------------------+--------+-----------------+\n",
      "|          timestamp|activity|activityIntensity|\n",
      "+-------------------+--------+-----------------+\n",
      "|2016-08-15 21:35:00|     325|                2|\n",
      "|2016-08-15 21:35:05|     181|                2|\n",
      "|2016-08-15 21:35:10|       4|                0|\n",
      "|2016-08-15 21:35:15|     246|                2|\n",
      "|2016-08-15 21:35:20|     131|                1|\n",
      "|2016-08-15 21:35:25|       0|                0|\n",
      "|2016-08-15 21:35:30|       0|                0|\n",
      "|2016-08-15 21:35:35|       0|                0|\n",
      "|2016-08-15 21:35:40|       0|                0|\n",
      "|2016-08-15 21:35:45|       0|                0|\n",
      "|2016-08-15 21:35:50|       0|                0|\n",
      "|2016-08-15 21:35:55|       0|                0|\n",
      "|2016-08-15 21:36:00|       0|                0|\n",
      "|2016-08-15 21:36:05|       0|                0|\n",
      "|2016-08-15 21:36:10|       0|                0|\n",
      "|2016-08-15 21:36:15|       0|                0|\n",
      "|2016-08-15 21:36:20|       0|                0|\n",
      "|2016-08-15 21:36:25|       0|                0|\n",
      "|2016-08-15 21:36:30|       0|                0|\n",
      "|2016-08-15 21:36:35|       0|                0|\n",
      "+-------------------+--------+-----------------+\n",
      "only showing top 20 rows\n",
      "\n"
     ]
    }
   ],
   "source": [
    "acc_data_act.show()"
   ]
  },
  {
   "cell_type": "code",
   "execution_count": 41,
   "metadata": {
    "ExecuteTime": {
     "end_time": "2019-12-11T16:44:26.688604Z",
     "start_time": "2019-12-11T16:44:08.787158Z"
    }
   },
   "outputs": [
    {
     "data": {
      "text/plain": "149331"
     },
     "execution_count": 41,
     "metadata": {},
     "output_type": "execute_result"
    }
   ],
   "source": [
    "# DETERMINE NON-WEAR PERIOD\n",
    "ts_name = 'timestamp'\n",
    "AC_name = 'activity'\n",
    "AI_name = 'activityIntensity'\n",
    "new_col = 'non_wear'\n",
    "window = INTERVAL\n",
    "minutes_zeros_row = 90\n",
    "\n",
    "acc_data_act = non_wear_filter(acc_data_act, ts_name, AC_name, AI_name, window, minutes_zeros_row)\n",
    "acc_data_act.cache()\n",
    "acc_data_act.checkpoint()\n",
    "acc_data_act.count()"
   ]
  },
  {
   "cell_type": "code",
   "execution_count": 42,
   "metadata": {
    "ExecuteTime": {
     "end_time": "2019-12-11T16:44:54.074171Z",
     "start_time": "2019-12-11T16:44:28.454517Z"
    }
   },
   "outputs": [
    {
     "data": {
      "text/plain": "149331"
     },
     "execution_count": 42,
     "metadata": {},
     "output_type": "execute_result"
    }
   ],
   "source": [
    "# DETERMINE ACTIVITY BOUT NUMBER\n",
    "ts_name = 'timestamp'\n",
    "AC_name = 'activity'\n",
    "new_col = 'activityBoutNumber'\n",
    "window = INTERVAL\n",
    "UP = 9999\n",
    "LOW = 1953\n",
    "DURATION = 10\n",
    "TOL = 2\n",
    "\n",
    "acc_data_act = activity_bout_filter(acc_data_act, ts_name, AC_name, new_col, window, UP, LOW, DURATION, TOL)\n",
    "acc_data_act.cache()\n",
    "acc_data_act.checkpoint()\n",
    "acc_data_act.count()"
   ]
  },
  {
   "cell_type": "code",
   "execution_count": 43,
   "metadata": {
    "ExecuteTime": {
     "end_time": "2019-12-11T16:45:57.920545Z",
     "start_time": "2019-12-11T16:45:02.876670Z"
    }
   },
   "outputs": [
    {
     "data": {
      "text/plain": "149331"
     },
     "execution_count": 43,
     "metadata": {},
     "output_type": "execute_result"
    }
   ],
   "source": [
    "# DETERMINE SEDENTARY BOUT NUMBER\n",
    "ts_name = 'timestamp'\n",
    "AC_name = 'activity'\n",
    "new_col = 'sedentaryBoutNumber'\n",
    "window = INTERVAL\n",
    "UP=180\n",
    "LOW=0\n",
    "DURATION=30\n",
    "TOL=1\n",
    "\n",
    "acc_data_act = sedentary_bout_filter(acc_data_act, ts_name, AC_name, new_col, window, UP, LOW, DURATION, TOL)\n",
    "acc_data_act.cache()\n",
    "acc_data_act.checkpoint()\n",
    "acc_data_act.count()"
   ]
  },
  {
   "cell_type": "code",
   "execution_count": 44,
   "metadata": {
    "ExecuteTime": {
     "end_time": "2019-12-11T16:46:02.552766Z",
     "start_time": "2019-12-11T16:46:01.684906Z"
    },
    "scrolled": true
   },
   "outputs": [
    {
     "name": "stdout",
     "output_type": "stream",
     "text": [
      "+-------------------+--------+-----------------+------------------+-------------------+\n",
      "|timestamp          |activity|activityIntensity|activityBoutNumber|sedentaryBoutNumber|\n",
      "+-------------------+--------+-----------------+------------------+-------------------+\n",
      "|2016-08-15 21:35:00|325     |2                |0                 |0                  |\n",
      "|2016-08-15 21:35:05|181     |2                |0                 |0                  |\n",
      "|2016-08-15 21:35:10|4       |0                |0                 |1                  |\n",
      "|2016-08-15 21:35:15|246     |2                |0                 |1                  |\n",
      "|2016-08-15 21:35:20|131     |1                |0                 |1                  |\n",
      "|2016-08-15 21:35:25|0       |0                |0                 |1                  |\n",
      "|2016-08-15 21:35:30|0       |0                |0                 |1                  |\n",
      "|2016-08-15 21:35:35|0       |0                |0                 |1                  |\n",
      "|2016-08-15 21:35:40|0       |0                |0                 |1                  |\n",
      "|2016-08-15 21:35:45|0       |0                |0                 |1                  |\n",
      "|2016-08-15 21:35:50|0       |0                |0                 |1                  |\n",
      "|2016-08-15 21:35:55|0       |0                |0                 |1                  |\n",
      "|2016-08-15 21:36:00|0       |0                |0                 |1                  |\n",
      "|2016-08-15 21:36:05|0       |0                |0                 |1                  |\n",
      "|2016-08-15 21:36:10|0       |0                |0                 |1                  |\n",
      "|2016-08-15 21:36:15|0       |0                |0                 |1                  |\n",
      "|2016-08-15 21:36:20|0       |0                |0                 |1                  |\n",
      "|2016-08-15 21:36:25|0       |0                |0                 |1                  |\n",
      "|2016-08-15 21:36:30|0       |0                |0                 |1                  |\n",
      "|2016-08-15 21:36:35|0       |0                |0                 |1                  |\n",
      "+-------------------+--------+-----------------+------------------+-------------------+\n",
      "only showing top 20 rows\n",
      "\n"
     ]
    }
   ],
   "source": [
    "acc_data_act.show(20,False)"
   ]
  },
  {
   "cell_type": "code",
   "execution_count": null,
   "metadata": {
    "ExecuteTime": {
     "end_time": "2019-12-11T16:46:04.179393Z",
     "start_time": "2019-12-11T16:46:04.175088Z"
    }
   },
   "outputs": [],
   "source": [
    "# acc_data_act.toPandas().to_csv('A01_acc_out_' + str(INTERVAL) + '.csv')"
   ]
  },
  {
   "cell_type": "markdown",
   "source": [
    "## Merge dataframes"
   ],
   "metadata": {
    "collapsed": false
   }
  },
  {
   "cell_type": "code",
   "execution_count": null,
   "metadata": {
    "ExecuteTime": {
     "end_time": "2019-12-11T16:46:12.623660Z",
     "start_time": "2019-12-11T16:46:08.986111Z"
    }
   },
   "outputs": [],
   "source": [
    "merge_data = gps_data3.join(acc_data_act, 'timestamp', how='left' ).orderBy('timestamp')\n",
    "merge_data.cache()\n",
    "merge_data.count()"
   ]
  },
  {
   "cell_type": "code",
   "execution_count": null,
   "metadata": {
    "ExecuteTime": {
     "end_time": "2019-12-11T16:46:13.666933Z",
     "start_time": "2019-12-11T16:46:13.660518Z"
    }
   },
   "outputs": [],
   "source": [
    "merge_data.printSchema()"
   ]
  },
  {
   "cell_type": "code",
   "execution_count": null,
   "metadata": {
    "ExecuteTime": {
     "end_time": "2019-12-11T16:46:16.980907Z",
     "start_time": "2019-12-11T16:46:15.032719Z"
    }
   },
   "outputs": [],
   "source": [
    "merge_data.show(20, False)"
   ]
  },
  {
   "cell_type": "code",
   "execution_count": null,
   "metadata": {
    "ExecuteTime": {
     "end_time": "2019-12-11T16:46:25.549058Z",
     "start_time": "2019-12-11T16:46:21.528798Z"
    }
   },
   "outputs": [],
   "source": [
    "merge_data2 = acc_data_act.join(gps_data3, 'timestamp', how='left' ).orderBy('timestamp')\n",
    "merge_data2.cache()\n",
    "merge_data2.count()"
   ]
  },
  {
   "cell_type": "code",
   "execution_count": null,
   "metadata": {
    "ExecuteTime": {
     "end_time": "2019-12-11T16:46:26.735878Z",
     "start_time": "2019-12-11T16:46:26.731980Z"
    }
   },
   "outputs": [],
   "source": [
    "merge_data2.printSchema()"
   ]
  },
  {
   "cell_type": "code",
   "execution_count": null,
   "metadata": {
    "ExecuteTime": {
     "end_time": "2019-12-11T16:46:30.262782Z",
     "start_time": "2019-12-11T16:46:28.274898Z"
    }
   },
   "outputs": [],
   "source": [
    "merge_data2.show(2000, False)"
   ]
  },
  {
   "cell_type": "code",
   "execution_count": null,
   "metadata": {},
   "outputs": [],
   "source": [
    "# merge_data2.toPandas().to_csv('A01_merged_out_' + str(INTERVAL) + '.csv')"
   ]
  }
 ],
 "metadata": {
  "kernelspec": {
   "display_name": "Python 3",
   "language": "python",
   "name": "python3"
  },
  "language_info": {
   "codemirror_mode": {
    "name": "ipython",
    "version": 3
   },
   "file_extension": ".py",
   "mimetype": "text/x-python",
   "name": "python",
   "nbconvert_exporter": "python",
   "pygments_lexer": "ipython3",
   "version": "3.7.5"
  },
  "toc": {
   "base_numbering": 1,
   "nav_menu": {},
   "number_sections": true,
   "sideBar": true,
   "skip_h1_title": false,
   "title_cell": "Table of Contents",
   "title_sidebar": "Contents",
   "toc_cell": false,
   "toc_position": {},
   "toc_section_display": true,
   "toc_window_display": false
  },
  "varInspector": {
   "cols": {
    "lenName": 16,
    "lenType": 16,
    "lenVar": 40
   },
   "kernels_config": {
    "python": {
     "delete_cmd_postfix": "",
     "delete_cmd_prefix": "del ",
     "library": "var_list.py",
     "varRefreshCmd": "print(var_dic_list())"
    },
    "r": {
     "delete_cmd_postfix": ") ",
     "delete_cmd_prefix": "rm(",
     "library": "var_list.r",
     "varRefreshCmd": "cat(var_dic_list()) "
    }
   },
   "types_to_exclude": [
    "module",
    "function",
    "builtin_function_or_method",
    "instance",
    "_Feature"
   ],
   "window_display": false
  }
 },
 "nbformat": 4,
 "nbformat_minor": 2
}